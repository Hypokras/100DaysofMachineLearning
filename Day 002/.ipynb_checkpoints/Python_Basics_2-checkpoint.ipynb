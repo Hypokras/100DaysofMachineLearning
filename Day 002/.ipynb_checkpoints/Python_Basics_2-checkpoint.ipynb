{
 "cells": [
  {
   "cell_type": "markdown",
   "metadata": {},
   "source": [
    "# Python Basics - 2"
   ]
  },
  {
   "cell_type": "markdown",
   "metadata": {},
   "source": [
    "### Recape\n",
    "Yesterday, we learned about very basics of python. I would highly recommand to read that first you you haven't.\n",
    "\n",
    "Today we will learn,\n",
    "\n",
    "### Outline\n",
    "- Working with Lists\n",
    "    - Looping through a list\n",
    "    - Numerical list\n",
    "    - Empty list\n",
    "    - List comprehension\n",
    "    - Slicing a list\n",
    "    - Looping through sliced list\n",
    "-\n"
   ]
  },
  {
   "cell_type": "markdown",
   "metadata": {},
   "source": [
    "### Working with Lists"
   ]
  },
  {
   "cell_type": "markdown",
   "metadata": {},
   "source": [
    "#### Looping through list\n",
    "In many case, we need to run through each itme in list to perform some task."
   ]
  },
  {
   "cell_type": "code",
   "execution_count": 1,
   "metadata": {},
   "outputs": [
    {
     "name": "stdout",
     "output_type": "stream",
     "text": [
      "python\n",
      "java\n",
      "ruby\n"
     ]
    }
   ],
   "source": [
    "#createing list\n",
    "programming_languages = ['python', 'java', 'ruby']\n",
    "\n",
    "for programming_language in programming_languages:\n",
    "    print(programming_language)"
   ]
  },
  {
   "cell_type": "markdown",
   "metadata": {},
   "source": [
    "#### Numerical List"
   ]
  },
  {
   "cell_type": "code",
   "execution_count": 2,
   "metadata": {},
   "outputs": [
    {
     "name": "stdout",
     "output_type": "stream",
     "text": [
      "[1, 2, 3, 4, 5]\n"
     ]
    }
   ],
   "source": [
    "number_list = [1,2,3,4,5]\n",
    "print(number_list)"
   ]
  },
  {
   "cell_type": "markdown",
   "metadata": {},
   "source": [
    "Python have range() function, which makes its easy to generate a series of numbers.\n",
    "\n",
    "Syntex:\n",
    "range(starting_point, ending_point)\n",
    "starting_point - python start counting from first number\n",
    "ending_point - python stops counting when it reach to this point, means output doesn't contains this value. "
   ]
  },
  {
   "cell_type": "code",
   "execution_count": 3,
   "metadata": {},
   "outputs": [
    {
     "name": "stdout",
     "output_type": "stream",
     "text": [
      "[1, 2, 3, 4, 5]\n"
     ]
    }
   ],
   "source": [
    "numbers = list(range(1,6))\n",
    "print(numbers)"
   ]
  },
  {
   "cell_type": "markdown",
   "metadata": {},
   "source": [
    "#### Creating Empty list"
   ]
  },
  {
   "cell_type": "code",
   "execution_count": 4,
   "metadata": {},
   "outputs": [
    {
     "name": "stdout",
     "output_type": "stream",
     "text": [
      "[1, 4, 9, 16, 25, 36, 49, 64, 81, 100]\n"
     ]
    }
   ],
   "source": [
    "#creating empty list to store squares of 1 to 10\n",
    "squares = []\n",
    "\n",
    "for value in range(1,11):\n",
    "    #storing square of value\n",
    "    square_value = value ** 2\n",
    "    \n",
    "    #adding square_value in list\n",
    "    squares.append(square_value)\n",
    "    \n",
    "print(squares)"
   ]
  },
  {
   "cell_type": "code",
   "execution_count": 5,
   "metadata": {},
   "outputs": [
    {
     "name": "stdout",
     "output_type": "stream",
     "text": [
      "1\n",
      "100\n"
     ]
    }
   ],
   "source": [
    "#finding min max value from list\n",
    "print(min(squares))\n",
    "print(max(squares))"
   ]
  },
  {
   "cell_type": "markdown",
   "metadata": {},
   "source": [
    "#### List Comprehensions\n",
    "In previous example we create squares list in 4 lines of code. Using list comprehension we can create same list in one line of code."
   ]
  },
  {
   "cell_type": "code",
   "execution_count": 6,
   "metadata": {},
   "outputs": [
    {
     "name": "stdout",
     "output_type": "stream",
     "text": [
      "[1, 4, 9, 16, 25, 36, 49, 64, 81, 100]\n"
     ]
    }
   ],
   "source": [
    "squares = [value ** 2 for value in range(1,11)]\n",
    "print(squares)"
   ]
  },
  {
   "cell_type": "markdown",
   "metadata": {},
   "source": [
    "#### Slicing a list"
   ]
  },
  {
   "cell_type": "code",
   "execution_count": 7,
   "metadata": {},
   "outputs": [
    {
     "name": "stdout",
     "output_type": "stream",
     "text": [
      "[1, 4, 9, 16, 25]\n",
      "[1, 4, 9, 16, 25]\n",
      "[36, 49, 64, 81, 100]\n",
      "[36, 49, 64, 81, 100]\n"
     ]
    }
   ],
   "source": [
    "print(squares[0:5]) # return items at 0, 1, 2, 3, and 4th index.\n",
    "print(squares[:5]) # return items upto 5th index, 5th item not included.\n",
    "print(squares[5:10]) # return items at 5, 6, 7, 8, and 9th index.\n",
    "print(squares[5:]) # return all item from index 5."
   ]
  },
  {
   "cell_type": "markdown",
   "metadata": {},
   "source": [
    "#### Even we can perform looping in sliced list"
   ]
  },
  {
   "cell_type": "code",
   "execution_count": 9,
   "metadata": {},
   "outputs": [
    {
     "name": "stdout",
     "output_type": "stream",
     "text": [
      "1\n",
      "4\n",
      "9\n",
      "16\n",
      "25\n"
     ]
    }
   ],
   "source": [
    "for value in squares[0:5]:\n",
    "    print(value)"
   ]
  },
  {
   "cell_type": "markdown",
   "metadata": {},
   "source": [
    "#### Check whether value is in list or not"
   ]
  },
  {
   "cell_type": "code",
   "execution_count": 16,
   "metadata": {},
   "outputs": [
    {
     "name": "stdout",
     "output_type": "stream",
     "text": [
      "False\n",
      "True\n"
     ]
    }
   ],
   "source": [
    "# lets check whether 3 and 9 are in the squares list or not\n",
    "print(3 in squares)\n",
    "\n",
    "print(9 in squares)"
   ]
  },
  {
   "cell_type": "markdown",
   "metadata": {},
   "source": [
    "### If Statement\n",
    "\n",
    "#### if-else statement\n",
    "\n",
    "Syntex :\n",
    "\n",
    ".... some code...\n",
    "\n",
    "if condition :\n",
    "    # python visit this if condition is true\n",
    "    .... some code ....\n",
    "else :\n",
    "    # python visit this if condition is false\n",
    "    .... some code ...."
   ]
  },
  {
   "cell_type": "code",
   "execution_count": 13,
   "metadata": {},
   "outputs": [
    {
     "name": "stdout",
     "output_type": "stream",
     "text": [
      "Pythonis widely used programming language for Machine Learning.\n",
      "java\n",
      "ruby\n"
     ]
    }
   ],
   "source": [
    "#createing list\n",
    "programming_languages = ['python', 'java', 'ruby']\n",
    "\n",
    "for programming_language in programming_languages:\n",
    "    if programming_language == 'python':\n",
    "        print(programming_language.title() + \" is widely used programming language for Machine Learning.\")\n",
    "    else:\n",
    "        print(programming_language.lower())"
   ]
  },
  {
   "cell_type": "markdown",
   "metadata": {},
   "source": [
    "#### if-else if - else statement\n",
    "In many case we need to check more than two conditions. \n",
    "\n",
    "Syntex:\n",
    "\n",
    "if condition_1:\n",
    "    \n",
    "    .... some code ....\n",
    "    \n",
    "elif condition_2:\n",
    "    \n",
    "    .... some code ....\n",
    "    \n",
    "else:\n",
    "    \n",
    "    .... some code ...."
   ]
  },
  {
   "cell_type": "code",
   "execution_count": null,
   "metadata": {},
   "outputs": [],
   "source": []
  }
 ],
 "metadata": {
  "kernelspec": {
   "display_name": "Python 3",
   "language": "python",
   "name": "python3"
  },
  "language_info": {
   "codemirror_mode": {
    "name": "ipython",
    "version": 3
   },
   "file_extension": ".py",
   "mimetype": "text/x-python",
   "name": "python",
   "nbconvert_exporter": "python",
   "pygments_lexer": "ipython3",
   "version": "3.7.7"
  }
 },
 "nbformat": 4,
 "nbformat_minor": 4
}
